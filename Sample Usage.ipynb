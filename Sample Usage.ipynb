{
 "cells": [
  {
   "cell_type": "code",
   "execution_count": 1,
   "metadata": {},
   "outputs": [],
   "source": [
    "# import modules\n",
    "from albumentation_augmentation import album_augmentation\n",
    "import albumentations as A\n",
    "import numpy as np\n",
    "import cv2"
   ]
  },
  {
   "cell_type": "code",
   "execution_count": 2,
   "metadata": {},
   "outputs": [],
   "source": [
    "# create first an instance of class album_augmentation\n",
    "album_instance=album_augmentation()"
   ]
  },
  {
   "cell_type": "code",
   "execution_count": 4,
   "metadata": {},
   "outputs": [],
   "source": [
    "##### Batches of Images #####"
   ]
  },
  {
   "cell_type": "code",
   "execution_count": 5,
   "metadata": {},
   "outputs": [],
   "source": [
    "# folder path of images\n",
    "my_path = \"C:\\\\Users\\\\user\\\\Python Codes\\\\OJT_Files\\\\Demo\\\\Samples\\\\\"\n",
    "# the annotation format\n",
    "annotation_format = \"polygon-json\" # polygon json format of labelme\n",
    "\n",
    "# other supported formats includes pascal voc (pascal_voc-xml), yolo (yolo-txt), \n",
    "# and bbox format of labelme (bbox-json)"
   ]
  },
  {
   "cell_type": "code",
   "execution_count": 6,
   "metadata": {},
   "outputs": [],
   "source": [
    "# Important note: We have a predefined augmentation pipeline for every annotation format \n",
    "# so we can just directly specify the annotation format as parameter without giving an augmentation pipeline"
   ]
  },
  {
   "cell_type": "code",
   "execution_count": 7,
   "metadata": {},
   "outputs": [
    {
     "name": "stdout",
     "output_type": "stream",
     "text": [
      "Augmenting Images and Annotations \n",
      "\n",
      "Time Start: 15:15:31\n",
      "Time Elapsed: 0:00:04\t\tWork Done :  ########## 100.0% | ETA: 0:00:000:00\n",
      "Time End: 15:15:35\n",
      "\n",
      "3 augmented images and annotations was saved at: C:\\Users\\user\\Python Codes\\OJT_Files\\Final Augmentation\\my_augment\n",
      "\n"
     ]
    }
   ],
   "source": [
    "# augmentation\n",
    "my_save_path = \"my_augment\"\n",
    "album_instance.A_augmentation(path=my_path,save_path=my_save_path, annotation_format=annotation_format)"
   ]
  },
  {
   "cell_type": "code",
   "execution_count": 8,
   "metadata": {},
   "outputs": [
    {
     "name": "stdout",
     "output_type": "stream",
     "text": [
      "Resizing Images and Annotations\n",
      "\n",
      "Time Start: 15:15:40\n",
      "Time Elapsed: 0:00:00\t\tWork Done :  ########## 100.0% | ETA: 0:00:000:00\n",
      "Time End: 15:15:40\n",
      "\n",
      "3 resized images and annotations was saved at: C:\\Users\\user\\Python Codes\\OJT_Files\\Final Augmentation\\my_resize\n",
      "\n"
     ]
    }
   ],
   "source": [
    "# adjust image and annotation size\n",
    "my_save_path = \"my_resize\"\n",
    "album_instance.adjust_img_and_annotate(path=my_path, scale=0.5, save_path=my_save_path, annotation_format=annotation_format)"
   ]
  },
  {
   "cell_type": "code",
   "execution_count": null,
   "metadata": {},
   "outputs": [],
   "source": [
    "##### Single Image #####"
   ]
  },
  {
   "cell_type": "code",
   "execution_count": null,
   "metadata": {},
   "outputs": [],
   "source": [
    "# augmentation"
   ]
  },
  {
   "cell_type": "code",
   "execution_count": 9,
   "metadata": {},
   "outputs": [],
   "source": [
    "# notice: if specified save_path is none existent \n",
    "# the program will automatically create one as long as it is a valid path\n",
    "my_path = \"C:\\\\Users\\\\user\\\\Python Codes\\\\OJT_Files\\\\Demo\\\\Samples\\\\\"\n",
    "img_name = 'guava_1.jpeg'"
   ]
  },
  {
   "cell_type": "code",
   "execution_count": 10,
   "metadata": {},
   "outputs": [
    {
     "data": {
      "text/plain": [
       "True"
      ]
     },
     "execution_count": 10,
     "metadata": {},
     "output_type": "execute_result"
    }
   ],
   "source": [
    "my_save_path = \"my_augment_poly\"\n",
    "album_instance.polygon_or_bbox_json(path=my_path,img_name=img_name,save_path=my_save_path, annotation_format=\"polygon-json\")"
   ]
  },
  {
   "cell_type": "code",
   "execution_count": 11,
   "metadata": {},
   "outputs": [
    {
     "data": {
      "text/plain": [
       "True"
      ]
     },
     "execution_count": 11,
     "metadata": {},
     "output_type": "execute_result"
    }
   ],
   "source": [
    "my_save_path = \"my_augment_pascal\"\n",
    "album_instance.pascal_voc_xml(path=my_path,img_name=img_name,save_path=my_save_path, annotation_format=\"pascal_voc-xml\")"
   ]
  },
  {
   "cell_type": "code",
   "execution_count": 12,
   "metadata": {},
   "outputs": [
    {
     "data": {
      "text/plain": [
       "True"
      ]
     },
     "execution_count": 12,
     "metadata": {},
     "output_type": "execute_result"
    }
   ],
   "source": [
    "my_save_path = \"my_augment_yolo\"\n",
    "album_instance.yolo_txt(path=my_path,img_name=img_name,save_path=my_save_path, annotation_format=\"yolo-txt\")"
   ]
  },
  {
   "cell_type": "code",
   "execution_count": null,
   "metadata": {},
   "outputs": [],
   "source": [
    "# resize"
   ]
  },
  {
   "cell_type": "code",
   "execution_count": 13,
   "metadata": {},
   "outputs": [
    {
     "data": {
      "text/plain": [
       "True"
      ]
     },
     "execution_count": 13,
     "metadata": {},
     "output_type": "execute_result"
    }
   ],
   "source": [
    "my_save_path = \"my_resize_poly\"\n",
    "album_instance.polygon_or_bbox_json_resize(path=my_path, img_name=img_name, scale=0.5, save_path=my_save_path, \n",
    "                                           annotation_format=\"polygon-json\")"
   ]
  },
  {
   "cell_type": "code",
   "execution_count": 14,
   "metadata": {},
   "outputs": [
    {
     "data": {
      "text/plain": [
       "True"
      ]
     },
     "execution_count": 14,
     "metadata": {},
     "output_type": "execute_result"
    }
   ],
   "source": [
    "my_save_path = \"my_resize_pascal\"\n",
    "album_instance.pascal_voc_xml_resize(path=my_path, img_name=img_name, scale=0.5, save_path=my_save_path, \n",
    "                                           annotation_format=\"pascal_voc-xml\")"
   ]
  },
  {
   "cell_type": "code",
   "execution_count": 15,
   "metadata": {},
   "outputs": [
    {
     "data": {
      "text/plain": [
       "True"
      ]
     },
     "execution_count": 15,
     "metadata": {},
     "output_type": "execute_result"
    }
   ],
   "source": [
    "my_save_path = \"my_resize_yolo\"\n",
    "album_instance.yolo_txt_resize(path=my_path, img_name=img_name, scale=0.5, save_path=my_save_path,\n",
    "                                           annotation_format=\"yolo-txt\")"
   ]
  },
  {
   "cell_type": "code",
   "execution_count": 16,
   "metadata": {},
   "outputs": [
    {
     "name": "stdout",
     "output_type": "stream",
     "text": [
      "Augmenting Images and Annotations \n",
      "\n",
      "Time Start: 15:16:21\n",
      "Time Elapsed: 0:02:39\t\tWork Done :  ########## 100.0% | ETA: 0:00:000:02\n",
      "Time End: 15:19:00\n",
      "\n",
      "382 augmented images and annotations was saved at: C:\\Users\\user\\Python Codes\\OJT_Files\\pomegranate_images\\ImagesResult\n",
      "\n"
     ]
    }
   ],
   "source": [
    "# Augmentation using your own pipeline\n",
    "\n",
    "# to use your own augmentation pipeline, \n",
    "# you can just pass your own pipeline using the paramater 'transform'\n",
    "my_path = \"C:/Users/user/Python Codes/OJT_Files/pomegranate_images/Images\"\n",
    "my_save_path = 'C:/Users/user/Python Codes/OJT_Files/pomegranate_images/ImagesResult'\n",
    "\n",
    "your_pipeline = A.Compose([\n",
    "    A.CLAHE(),\n",
    "    A.Affine(),\n",
    "    A.RandomRotate90(),\n",
    "    A.Blur(blur_limit=3),\n",
    "    # A.OpticalDistortion(),\n",
    "    A.HueSaturationValue(),\n",
    "    A.RandomScale(scale_limit=(-0.5, 0.5), p=1, interpolation=1),\n",
    "    A.PadIfNeeded(768, 768, border_mode=cv2.BORDER_CONSTANT),\n",
    "    A.HorizontalFlip(p=0.5),\n",
    "    A.RandomBrightnessContrast(p=0.2),\n",
    "], keypoint_params=A.KeypointParams(format='xy', remove_invisible=False))\n",
    "\n",
    "album_instance.A_augmentation(path=my_path,save_path=my_save_path, \n",
    "                              transform=your_pipeline, annotation_format=\"polygon-json\")"
   ]
  },
  {
   "cell_type": "code",
   "execution_count": 17,
   "metadata": {},
   "outputs": [
    {
     "data": {
      "text/plain": [
       "True"
      ]
     },
     "execution_count": 17,
     "metadata": {},
     "output_type": "execute_result"
    }
   ],
   "source": [
    "# or you can directly set it using the set_transformation function \n",
    "# and then check it using the get_transformation function\n",
    "album_instance.set_transformation(transform=your_pipeline,random_seed=None)"
   ]
  },
  {
   "cell_type": "code",
   "execution_count": 18,
   "metadata": {},
   "outputs": [
    {
     "data": {
      "text/plain": [
       "Compose([\n",
       "  CLAHE(always_apply=False, p=0.5, clip_limit=(1, 4.0), tile_grid_size=(8, 8)),\n",
       "  Affine(always_apply=False, p=0.5, interpolation=1, cval=0, mode=0, scale={'x': (0.9, 1.1), 'y': (0.9, 1.1)}, translate_percent={'x': (-0.1, 0.1), 'y': (-0.1, 0.1)}, translate_px=None, rotate=(-15, 15), fit_output=False, shear={'x': (-10, 10), 'y': (-10, 10)}, cval_mask=0),\n",
       "  RandomRotate90(always_apply=False, p=0.5),\n",
       "  Blur(always_apply=False, p=0.5, blur_limit=(3, 3)),\n",
       "  HueSaturationValue(always_apply=False, p=0.5, hue_shift_limit=(-20, 20), sat_shift_limit=(-30, 30), val_shift_limit=(-20, 20)),\n",
       "  RandomScale(always_apply=False, p=1, interpolation=1, scale_limit=(-0.5, 0.5)),\n",
       "  PadIfNeeded(always_apply=False, p=1.0, min_height=768, min_width=768, pad_height_divisor=None, pad_width_divisor=None, border_mode=0, value=None, mask_value=None),\n",
       "  HorizontalFlip(always_apply=False, p=0.5),\n",
       "  RandomBrightnessContrast(always_apply=False, p=0.2, brightness_limit=(-0.2, 0.2), contrast_limit=(-0.2, 0.2), brightness_by_max=True),\n",
       "], p=1.0, bbox_params=None, keypoint_params={'format': 'xy', 'label_fields': None, 'remove_invisible': False, 'angle_in_degrees': True, 'check_each_transform': True}, additional_targets={})"
      ]
     },
     "execution_count": 18,
     "metadata": {},
     "output_type": "execute_result"
    }
   ],
   "source": [
    "album_instance.get_transformation()"
   ]
  },
  {
   "cell_type": "code",
   "execution_count": 19,
   "metadata": {},
   "outputs": [
    {
     "data": {
      "text/plain": [
       "True"
      ]
     },
     "execution_count": 19,
     "metadata": {},
     "output_type": "execute_result"
    }
   ],
   "source": [
    "# IMPORTANT NOTE: setting your own transformation has the highest priority, this\n",
    "# means that the set transformation will be use in every augmentation regardless of the annotation format\n",
    "# to reset your transformation you need to pass \"None\" value to set_transformation function\n",
    "album_instance.set_transformation(transform=None)"
   ]
  },
  {
   "cell_type": "code",
   "execution_count": 20,
   "metadata": {},
   "outputs": [
    {
     "data": {
      "text/plain": [
       "\"Compose([\\n  ShiftScaleRotate(always_apply=False, p=0.2, shift_limit_x=(-0.0625, 0.0625), shift_limit_y=(-0.0625, 0.0625), scale_limit=(-0.09999999999999998, 0.10000000000000009), rotate_limit=(-45, 45), interpolation=1, border_mode=4, value=None, mask_value=None),\\n  RandomRotate90(always_apply=False, p=0.5),\\n  RandomScale(always_apply=False, p=0.5, interpolation=1, scale_limit=(-0.09999999999999998, 0.10000000000000009)),\\n  Transpose(always_apply=False, p=0.5),\\n  Flip(always_apply=False, p=0.5),\\n  OneOf([\\n    GaussNoise(always_apply=False, p=0.5, var_limit=(10.0, 50.0), per_channel=True, mean=0),\\n    MultiplicativeNoise(always_apply=False, p=1, multiplier=(0.5, 1.5), per_channel=False, elementwise=True),\\n  ], p=0.3),\\n  OneOf([\\n    MotionBlur(always_apply=False, p=0.2, blur_limit=(3, 7)),\\n    MedianBlur(always_apply=False, p=0.1, blur_limit=(3, 3)),\\n    Blur(always_apply=False, p=0.1, blur_limit=(3, 3)),\\n  ], p=0.3),\\n  OneOf([\\n    OpticalDistortion(always_apply=False, p=0.3, distort_limit=(-0.05, 0.05), shift_limit=(-0.05, 0.05), interpolation=1, border_mode=4, value=None, mask_value=None),\\n    GridDistortion(always_apply=False, p=0.1, num_steps=5, distort_limit=(-0.3, 0.3), interpolation=1, border_mode=4, value=None, mask_value=None),\\n    PiecewiseAffine(always_apply=False, p=0.3, scale=(0.03, 0.05), nb_rows=(4, 4), nb_cols=(4, 4), interpolation=1, mask_interpolation=0, cval=0, cval_mask=0, mode='constant', absolute_scale=False, keypoints_threshold=0.01),\\n  ], p=0.3),\\n  OneOf([\\n    CLAHE(always_apply=False, p=0.5, clip_limit=(1, 2), tile_grid_size=(8, 8)),\\n    Sharpen(always_apply=False, p=0.5, alpha=(0.2, 0.5), lightness=(0.5, 1.0)),\\n    Emboss(always_apply=False, p=0.5, alpha=(0.2, 0.5), strength=(0.2, 0.7)),\\n    RandomBrightnessContrast(always_apply=False, p=0.5, brightness_limit=(-0.2, 0.2), contrast_limit=(-0.2, 0.2), brightness_by_max=True),\\n  ], p=0.3),\\n], p=1.0, bbox_params=None, keypoint_params=None, additional_targets={})\""
      ]
     },
     "execution_count": 20,
     "metadata": {},
     "output_type": "execute_result"
    }
   ],
   "source": [
    "album_instance.get_transformation()\n",
    "# the resulting augmentation pipeline should be the default pipeline given below \n",
    "# (this is the default pipeline for image augmentation only)\n",
    "# you can get the other default pipelines by specifying an annotation format in the get_tranformation function\n",
    "# i.e. get_transformation(annotation_format='polygon-json')\n",
    "\n",
    "'''Compose([\n",
    "  ShiftScaleRotate(always_apply=False, p=0.2, shift_limit_x=(-0.0625, 0.0625), shift_limit_y=(-0.0625, 0.0625), scale_limit=(-0.09999999999999998, 0.10000000000000009), rotate_limit=(-45, 45), interpolation=1, border_mode=4, value=None, mask_value=None),\n",
    "  RandomRotate90(always_apply=False, p=0.5),\n",
    "  RandomScale(always_apply=False, p=0.5, interpolation=1, scale_limit=(-0.09999999999999998, 0.10000000000000009)),\n",
    "  Transpose(always_apply=False, p=0.5),\n",
    "  Flip(always_apply=False, p=0.5),\n",
    "  OneOf([\n",
    "    GaussNoise(always_apply=False, p=0.5, var_limit=(10.0, 50.0), per_channel=True, mean=0),\n",
    "    MultiplicativeNoise(always_apply=False, p=1, multiplier=(0.5, 1.5), per_channel=False, elementwise=True),\n",
    "  ], p=0.3),\n",
    "  OneOf([\n",
    "    MotionBlur(always_apply=False, p=0.2, blur_limit=(3, 7)),\n",
    "    MedianBlur(always_apply=False, p=0.1, blur_limit=(3, 3)),\n",
    "    Blur(always_apply=False, p=0.1, blur_limit=(3, 3)),\n",
    "  ], p=0.3),\n",
    "  OneOf([\n",
    "    OpticalDistortion(always_apply=False, p=0.3, distort_limit=(-0.05, 0.05), shift_limit=(-0.05, 0.05), interpolation=1, border_mode=4, value=None, mask_value=None),\n",
    "    GridDistortion(always_apply=False, p=0.1, num_steps=5, distort_limit=(-0.3, 0.3), interpolation=1, border_mode=4, value=None, mask_value=None),\n",
    "    PiecewiseAffine(always_apply=False, p=0.3, scale=(0.03, 0.05), nb_rows=(4, 4), nb_cols=(4, 4), interpolation=1, mask_interpolation=0, cval=0, cval_mask=0, mode='constant', absolute_scale=False, keypoints_threshold=0.01),\n",
    "  ], p=0.3),\n",
    "  OneOf([\n",
    "    CLAHE(always_apply=False, p=0.5, clip_limit=(1, 2), tile_grid_size=(8, 8)),\n",
    "    Sharpen(always_apply=False, p=0.5, alpha=(0.2, 0.5), lightness=(0.5, 1.0)),\n",
    "    Emboss(always_apply=False, p=0.5, alpha=(0.2, 0.5), strength=(0.2, 0.7)),\n",
    "    RandomBrightnessContrast(always_apply=False, p=0.5, brightness_limit=(-0.2, 0.2), contrast_limit=(-0.2, 0.2), brightness_by_max=True),\n",
    "  ], p=0.3),\n",
    "], p=1.0, bbox_params=None, keypoint_params=None, additional_targets={})'''"
   ]
  },
  {
   "cell_type": "code",
   "execution_count": null,
   "metadata": {},
   "outputs": [],
   "source": [
    "# Friendly Note: make sure that your augmentation pipeline is compatible with your annotation format"
   ]
  }
 ],
 "metadata": {
  "kernelspec": {
   "display_name": "Python 3",
   "language": "python",
   "name": "python3"
  },
  "language_info": {
   "codemirror_mode": {
    "name": "ipython",
    "version": 3
   },
   "file_extension": ".py",
   "mimetype": "text/x-python",
   "name": "python",
   "nbconvert_exporter": "python",
   "pygments_lexer": "ipython3",
   "version": "3.6.12"
  },
  "toc": {
   "base_numbering": 1,
   "nav_menu": {},
   "number_sections": true,
   "sideBar": true,
   "skip_h1_title": false,
   "title_cell": "Table of Contents",
   "title_sidebar": "Contents",
   "toc_cell": false,
   "toc_position": {},
   "toc_section_display": true,
   "toc_window_display": false
  }
 },
 "nbformat": 4,
 "nbformat_minor": 4
}
